{
 "cells": [
  {
   "cell_type": "code",
   "execution_count": 77,
   "id": "580b778d-0f17-4f0b-a2c0-dc325ec38a3f",
   "metadata": {},
   "outputs": [],
   "source": [
    "import numpy as np\n",
    "import matplotlib as mpl\n",
    "import matplotlib.pyplot as plt\n",
    "#from matplotlib.colors import LogNorm\n",
    "#from matplotlib.patches import Rectangle\n",
    "from matplotlib.patches import Circle\n",
    "#from matplotlib.patches import Ellipse\n",
    "from matplotlib.cm import ScalarMappable\n",
    "#from matplotlib.patheffects import withStroke\n",
    "#import matplotlib.ticker as ticker\n",
    "\n",
    "#import math\n",
    "#import csv\n",
    "#from math import pi\n",
    "#import pandas as pd\n",
    "#import glob\n",
    "#import match \n",
    "\n",
    "#import seaborn as sns\n",
    "#import statistics as stat\n",
    "\n",
    "#from scipy.stats import kde #for the plot very soft\n",
    "#from scipy.stats import gaussian_kde\n",
    "#from sklearn.neighbors import KernelDensity\n",
    "\n",
    "from astropy.io import fits\n",
    "from astropy.table import Table, unique, join, vstack, QTable, hstack\n",
    "#from astropy.visualization import astropy_mpl_style\n",
    "#from astropy.visualization import simple_norm\n",
    "#from astropy.visualization import make_lupton_rgb\n",
    "#from astropy.visualization import SqrtStretch\n",
    "#from astropy.visualization import ZScaleInterval\n",
    "\n",
    "\n",
    "from astropy.stats import biweight_location, biweight_scale\n",
    "#from astropy.nddata import Cutout2D\n",
    "from astropy import units as u\n",
    "from astropy import constants as Cons\n",
    "from astropy.wcs import WCS\n",
    "import astropy.cosmology.units as cu\n",
    "from astropy.cosmology import WMAP9\n",
    "from astropy.cosmology import LambdaCDM\n",
    "from astropy.cosmology import FlatLambdaCDM\n",
    "from astropy.coordinates import SkyCoord, Galactic, Angle\n",
    "\n",
    "#\n",
    "#plt.rcParams['text.usetex'] = True\n",
    "#plt.rcParams['xtick.direction'] = 'in'\n",
    "#plt.rcParams['ytick.direction'] = 'in'\n",
    "#\n",
    "#plt.rcParams['axes.linewidth'] = 1.5\n",
    "#plt.rcParams['xtick.major.size'] = 6\n",
    "#plt.rcParams['xtick.minor.size'] = 3\n",
    "#plt.rcParams['ytick.major.size'] = 6\n",
    "#plt.rcParams['ytick.minor.size'] = 3"
   ]
  },
  {
   "cell_type": "code",
   "execution_count": 78,
   "id": "93fe166a-dbe1-47c9-8ff6-798c48c0fc17",
   "metadata": {},
   "outputs": [],
   "source": [
    "names = [\n",
    "    'extension', 'chip', 'X', 'Y', 'chi', 'SN', 'obj_sharpness', 'obj_roundness', 'd_Maxis', 'crowding', \n",
    "    'obj_type', 'counts_ACS_F606W', 'SkyLvl_ACS_F606W', 'norm_count_rate_ACS_F606W', 'norm_count_rate_uncert_ACS_F606W', \n",
    "    'VEGAMAG_ACS_F606W', 'UBVRI_ACS_F606W', 'mag_uncert_ACS_F606W', 'chi_ACS_F606W', 'SN_ACS_F606W', \n",
    "    'sharpness_ACS_F606W', 'roundness_ACS_F606W', 'crowding_ACS_F606W', 'phot_quality_flag_ACS_F606W', \n",
    "    'counts_ACS_F814W', 'SkyLvl_ACS_F814W', 'norm_count_rate_ACS_F814W', 'norm_count_rate_uncert_ACS_F814W', \n",
    "    'VEGAMAG_ACS_F814W', 'UBVRI_ACS_F814W', 'mag_uncert_ACS_F814W', 'chi_ACS_F814W', 'SN_ACS_F814W', \n",
    "    'sharpness_ACS_F814W', 'roundness_ACS_F814W', 'crowding_ACS_F814W', 'phot_quality_flag_ACS_F814W', \n",
    "    'counts_F606W_j9ec41afq_flc_chip1', 'SkyLvl_F606W_j9ec41afq_flc_chip1', 'norm_count_rate_F606W_j9ec41afq_flc_chip1', \n",
    "    'norm_count_rate_uncert_F606W_j9ec41afq_flc_chip1', 'VEGAMAG_F606W_j9ec41afq_flc_chip1', 'UBVRI_F606W_j9ec41afq_flc_chip1', \n",
    "    'mag_uncert_F606W_j9ec41afq_flc_chip1', 'chi_F606W_j9ec41afq_flc_chip1', 'SN_F606W_j9ec41afq_flc_chip1', \n",
    "    'sharpness_F606W_j9ec41afq_flc_chip1', 'roundness_F606W_j9ec41afq_flc_chip1', 'crowding_F606W_j9ec41afq_flc_chip1', \n",
    "    'phot_quality_flag_F606W_j9ec41afq_flc_chip1', 'counts_F606W_j9ec41afq_flc_chip2', 'SkyLvl_F606W_j9ec41afq_flc_chip2', \n",
    "    'norm_count_rate_F606W_j9ec41afq_flc_chip2', 'norm_count_rate_uncert_F606W_j9ec41afq_flc_chip2', 'VEGAMAG_F606W_j9ec41afq_flc_chip2', \n",
    "    'UBVRI_F606W_j9ec41afq_flc_chip2', 'mag_uncert_F606W_j9ec41afq_flc_chip2', 'chi_F606W_j9ec41afq_flc_chip2', \n",
    "    'SN_F606W_j9ec41afq_flc_chip2', 'sharpness_F606W_j9ec41afq_flc_chip2', 'roundness_F606W_j9ec41afq_flc_chip2', \n",
    "    'crowding_F606W_j9ec41afq_flc_chip2', 'phot_quality_flag_F606W_j9ec41afq_flc_chip2', 'counts_F606W_j9ec41agq_flc_chip1', \n",
    "    'SkyLvl_F606W_j9ec41agq_flc_chip1', 'norm_count_rate_F606W_j9ec41agq_flc_chip1', 'norm_count_rate_uncert_F606W_j9ec41agq_flc_chip1', \n",
    "    'VEGAMAG_F606W_j9ec41agq_flc_chip1', 'UBVRI_F606W_j9ec41agq_flc_chip1', 'mag_uncert_F606W_j9ec41agq_flc_chip1', \n",
    "    'chi_F606W_j9ec41agq_flc_chip1', 'SN_F606W_j9ec41agq_flc_chip1', 'sharpness_F606W_j9ec41agq_flc_chip1', \n",
    "    'roundness_F606W_j9ec41agq_flc_chip1', 'crowding_F606W_j9ec41agq_flc_chip1', 'phot_quality_flag_F606W_j9ec41agq_flc_chip1', \n",
    "    'counts_F606W_j9ec41agq_flc_chip2', 'SkyLvl_F606W_j9ec41agq_flc_chip2', 'norm_count_rate_F606W_j9ec41agq_flc_chip2', \n",
    "    'norm_count_rate_uncert_F606W_j9ec41agq_flc_chip2', 'VEGAMAG_F606W_j9ec41agq_flc_chip2', 'UBVRI_F606W_j9ec41agq_flc_chip2', \n",
    "    'mag_uncert_F606W_j9ec41agq_flc_chip2', 'chi_F606W_j9ec41agq_flc_chip2', 'SN_F606W_j9ec41agq_flc_chip2', \n",
    "    'sharpness_F606W_j9ec41agq_flc_chip2', 'roundness_F606W_j9ec41agq_flc_chip2', 'crowding_F606W_j9ec41agq_flc_chip2', \n",
    "    'phot_quality_flag_F606W_j9ec41agq_flc_chip2', 'counts_F814W_j9ec41aiq_flc_chip1', 'SkyLvl_F814W_j9ec41aiq_flc_chip1', \n",
    "    'norm_count_rate_F814W_j9ec41aiq_flc_chip1', 'norm_count_rate_uncert_F814W_j9ec41aiq_flc_chip1', 'VEGAMAG_F814W_j9ec41aiq_flc_chip1', \n",
    "    'UBVRI_F814W_j9ec41aiq_flc_chip1', 'mag_uncert_F814W_j9ec41aiq_flc_chip1', 'chi_F814W_j9ec41aiq_flc_chip1', \n",
    "    'SN_F814W_j9ec41aiq_flc_chip1', 'sharpness_F814W_j9ec41aiq_flc_chip1', 'roundness_F814W_j9ec41aiq_flc_chip1', \n",
    "    'crowding_F814W_j9ec41aiq_flc_chip1', 'phot_quality_flag_F814W_j9ec41aiq_flc_chip1', 'counts_F814W_j9ec41aiq_flc_chip2', \n",
    "    'SkyLvl_F814W_j9ec41aiq_flc_chip2', 'norm_count_rate_F814W_j9ec41aiq_flc_chip2', 'norm_count_rate_uncert_F814W_j9ec41aiq_flc_chip2', \n",
    "    'VEGAMAG_F814W_j9ec41aiq_flc_chip2', 'UBVRI_F814W_j9ec41aiq_flc_chip2', 'mag_uncert_F814W_j9ec41aiq_flc_chip2', \n",
    "    'chi_F814W_j9ec41aiq_flc_chip2', 'SN_F814W_j9ec41aiq_flc_chip2', 'sharpness_F814W_j9ec41aiq_flc_chip2', \n",
    "    'roundness_F814W_j9ec41aiq_flc_chip2', 'crowding_F814W_j9ec41aiq_flc_chip2', 'phot_quality_flag_F814W_j9ec41aiq_flc_chip2', \n",
    "    'counts_F814W_j9ec41akq_flc_chip1', 'SkyLvl_F814W_j9ec41akq_flc_chip1', 'norm_count_rate_F814W_j9ec41akq_flc_chip1', \n",
    "    'norm_count_rate_uncert_F814W_j9ec41akq_flc_chip1', 'VEGAMAG_F814W_j9ec41akq_flc_chip1', 'UBVRI_F814W_j9ec41akq_flc_chip1', \n",
    "    'mag_uncert_F814W_j9ec41akq_flc_chip1', 'chi_F814W_j9ec41akq_flc_chip1', 'SN_F814W_j9ec41akq_flc_chip1', \n",
    "    'sharpness_F814W_j9ec41akq_flc_chip1', 'roundness_F814W_j9ec41akq_flc_chip1', 'crowding_F814W_j9ec41akq_flc_chip1', \n",
    "    'phot_quality_flag_F814W_j9ec41akq_flc_chip1', 'counts_F814W_j9ec41akq_flc_chip2', 'SkyLvl_F814W_j9ec41akq_flc_chip2', \n",
    "    'norm_count_rate_F814W_j9ec41akq_flc_chip2', 'norm_count_rate_uncert_F814W_j9ec41akq_flc_chip2', 'VEGAMAG_F814W_j9ec41akq_flc_chip2', \n",
    "    'UBVRI_F814W_j9ec41akq_flc_chip2', 'mag_uncert_F814W_j9ec41akq_flc_chip2', 'chi_F814W_j9ec41akq_flc_chip2', \n",
    "    'SN_F814W_j9ec41akq_flc_chip2', 'sharpness_F814W_j9ec41akq_flc_chip2', 'roundness_F814W_j9ec41akq_flc_chip2', \n",
    "    'crowding_F814W_j9ec41akq_flc_chip2', 'phot_quality_flag_F814W_j9ec41akq_flc_chip2'\n",
    "]"
   ]
  },
  {
   "cell_type": "code",
   "execution_count": 94,
   "id": "f0ab4df5-2323-4533-9d54-0491c17c81ad",
   "metadata": {
    "scrolled": true
   },
   "outputs": [],
   "source": [
    "filename = 'data_fits/hlsp_angst_hst_acs-wfc_10523-ngc3031-halo-1_f814w_v1_ref.fits'"
   ]
  },
  {
   "cell_type": "code",
   "execution_count": 99,
   "id": "3e384185-b250-4dd1-b71c-6eb622694bd1",
   "metadata": {},
   "outputs": [],
   "source": [
    "#t = Table.read(filename, format='fits')\n",
    "#hdu = fits.open(filename)\n",
    "\n",
    "t = np.loadtxt(filename)\n",
    "t.shape #casi 41,963 fuentes con 141 columnas cada una\n",
    "T = Table(t)\n",
    "T.rename_columns(T.colnames,names)"
   ]
  },
  {
   "cell_type": "markdown",
   "id": "e34e84cc-9021-4db8-a459-9194081429e4",
   "metadata": {},
   "source": [
    "#### Culls\n",
    "##### Radburn-Smith et al. 2011"
   ]
  },
  {
   "cell_type": "code",
   "execution_count": 100,
   "id": "ccfed714-c02c-453e-a0d3-39920f46df42",
   "metadata": {},
   "outputs": [],
   "source": [
    "T = T[T['obj_type']==1]\n",
    "T = T[T['crowding_ACS_F606W']<=2]\n",
    "\n",
    "T = T[T['crowding_ACS_F606W']+T['crowding_ACS_F814W']<0.16]\n",
    "#T = T[T['sharpness_ACS_F606W']+T['sharpness_ACS_F814W']<-0.06]\n",
    "T = T[(T['SN_ACS_F606W']>5.0) & (T['SN_ACS_F814W']>5.0)]"
   ]
  },
  {
   "cell_type": "code",
   "execution_count": 102,
   "id": "f8336876-fc8e-42ea-83a6-17d990d892de",
   "metadata": {},
   "outputs": [
    {
     "data": {
      "text/plain": [
       "2198"
      ]
     },
     "execution_count": 102,
     "metadata": {},
     "output_type": "execute_result"
    }
   ],
   "source": [
    "len(T)"
   ]
  },
  {
   "cell_type": "markdown",
   "id": "e118f2a5-b1fa-4636-b04e-abc770981065",
   "metadata": {},
   "source": [
    "#### Corregir por extinction galactica\n",
    "$R_V = \\frac{A_V}{E(B-V)}$\n",
    "\n",
    "$R_{filter} = \\frac{A_{filter}}{E(B-V)}$"
   ]
  },
  {
   "cell_type": "code",
   "execution_count": 103,
   "id": "1e388c0d-3ae4-4c22-83e6-b6ecb7e4397a",
   "metadata": {},
   "outputs": [],
   "source": [
    "def Extintion_corr(m, A):\n",
    "    m_ = m - A\n",
    "    return m_"
   ]
  },
  {
   "cell_type": "code",
   "execution_count": 104,
   "id": "ef82ea17-dc1c-4f81-810e-19b786bb802e",
   "metadata": {},
   "outputs": [
    {
     "data": {
      "text/plain": [
       "0.09352903225806451"
      ]
     },
     "execution_count": 104,
     "metadata": {},
     "output_type": "execute_result"
    }
   ],
   "source": [
    "A_814"
   ]
  },
  {
   "cell_type": "code",
   "execution_count": 105,
   "id": "0308ad6b-dc9a-4a6d-8337-92f114b9668d",
   "metadata": {},
   "outputs": [],
   "source": [
    "Av_SF = 0.19 \n",
    "Rv = 3.1\n",
    "R_606 = 2.471\n",
    "R_814 = 1.526\n",
    "\n",
    "A_606 = R_606*(Av_SF/Rv)\n",
    "A_814 = R_814*(Av_SF/Rv)\n",
    "\n",
    "T['F606W_'] = Extintion_corr(T['VEGAMAG_ACS_F606W'], A_606)\n",
    "T['F814W_'] = Extintion_corr(T['VEGAMAG_ACS_F814W'], A_814)"
   ]
  },
  {
   "cell_type": "code",
   "execution_count": 106,
   "id": "a4935413-e398-413d-877c-a499ef0e3e2a",
   "metadata": {},
   "outputs": [
    {
     "data": {
      "text/plain": [
       "2198"
      ]
     },
     "execution_count": 106,
     "metadata": {},
     "output_type": "execute_result"
    }
   ],
   "source": [
    "len(T)"
   ]
  },
  {
   "cell_type": "code",
   "execution_count": 107,
   "id": "e733d906-fc90-4575-8866-e65bcccfe3d8",
   "metadata": {},
   "outputs": [
    {
     "data": {
      "image/png": "[encoded data removed]",
      "text/plain": [
       "<Figure size 500x500 with 1 Axes>"
      ]
     },
     "metadata": {},
     "output_type": "display_data"
    }
   ],
   "source": [
    "fig, ax = plt.subplots(1,1, figsize=(5,5)) \n",
    "\n",
    "ax.scatter(T['F606W_']-T['F814W_'], T['F814W_'], s=3, color='black', alpha=0.8)\n",
    "ax.set_ylim(ax.get_ylim()[::-1])\n",
    "ax.set_xlabel(r'$F606W-F814W$')\n",
    "ax.set_ylabel(r'$F814W$')\n",
    "ax.minorticks_on()\n",
    "ax.tick_params(axis='x', which='both', top=True, direction='in')\n",
    "ax.tick_params(axis='y', which='both', right=True, direction='in')\n"
   ]
  },
  {
   "cell_type": "code",
   "execution_count": null,
   "id": "e9439f59-ad08-457e-bd81-513e95f1a3fc",
   "metadata": {},
   "outputs": [],
   "source": []
  }
 ],
 "metadata": {
  "kernelspec": {
   "display_name": "Python 3 (ipykernel)",
   "language": "python",
   "name": "python3"
  },
  "language_info": {
   "codemirror_mode": {
    "name": "ipython",
    "version": 3
   },
   "file_extension": ".py",
   "mimetype": "text/x-python",
   "name": "python",
   "nbconvert_exporter": "python",
   "pygments_lexer": "ipython3",
   "version": "3.12.2"
  }
 },
 "nbformat": 4,
 "nbformat_minor": 5
}
